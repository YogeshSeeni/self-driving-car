{
 "cells": [
  {
   "cell_type": "code",
   "execution_count": 1,
   "id": "fitting-virus",
   "metadata": {},
   "outputs": [],
   "source": [
    "import numpy as np\n",
    "from numpy import loadtxt\n",
    "from tensorflow.keras.models import Sequential\n",
    "from tensorflow.keras.layers import Dense"
   ]
  },
  {
   "cell_type": "code",
   "execution_count": 2,
   "id": "measured-disorder",
   "metadata": {},
   "outputs": [],
   "source": [
    "features = [\"ForwardRay\",\"ForwardLeftRay\",\"LeftRay\",\"ForwardRightRay\",\"RightRay\",\"SteeringAngle\"]\n",
    "dataset = loadtxt(\"./training_data.csv\", delimiter=\",\")"
   ]
  },
  {
   "cell_type": "code",
   "execution_count": 3,
   "id": "lyric-morris",
   "metadata": {},
   "outputs": [],
   "source": [
    "import random\n",
    "\n",
    "random.shuffle(dataset)"
   ]
  },
  {
   "cell_type": "code",
   "execution_count": 4,
   "id": "engaging-slave",
   "metadata": {},
   "outputs": [
    {
     "name": "stdout",
     "output_type": "stream",
     "text": [
      "[15.40716   3.069707  1.619434  2.207653  2.366326]\n"
     ]
    }
   ],
   "source": [
    "X = dataset[:,0:5]\n",
    "y = dataset[:,5]\n",
    "print(X[0])"
   ]
  },
  {
   "cell_type": "code",
   "execution_count": 5,
   "id": "prerequisite-table",
   "metadata": {},
   "outputs": [],
   "source": [
    "X = np.array(X)\n",
    "y = np.array(y)"
   ]
  },
  {
   "cell_type": "code",
   "execution_count": 6,
   "id": "elder-manchester",
   "metadata": {},
   "outputs": [],
   "source": [
    "from sklearn.preprocessing import StandardScaler\n",
    "\n",
    "scaler = StandardScaler().fit(X)\n",
    "X = scaler.transform(X)"
   ]
  },
  {
   "cell_type": "code",
   "execution_count": 7,
   "id": "refined-forest",
   "metadata": {},
   "outputs": [
    {
     "name": "stdout",
     "output_type": "stream",
     "text": [
      "[ 1.71416684 -0.13739052 -0.78543354 -0.09414403  2.07114793]\n"
     ]
    }
   ],
   "source": [
    "print(X[0])"
   ]
  },
  {
   "cell_type": "code",
   "execution_count": 8,
   "id": "federal-heating",
   "metadata": {},
   "outputs": [],
   "source": [
    "y_fixed = []\n",
    "\n",
    "for n in y:\n",
    "    y_fixed.append(n+1)\n",
    "    \n",
    "y = np.array(y_fixed)"
   ]
  },
  {
   "cell_type": "code",
   "execution_count": 9,
   "id": "prospective-favor",
   "metadata": {},
   "outputs": [],
   "source": [
    "import tensorflow as tf\n",
    "\n",
    "model = tf.keras.models.Sequential([\n",
    "  tf.keras.layers.Flatten(input_dim=5),\n",
    "  tf.keras.layers.Dense(64, activation='relu'),\n",
    "    tf.keras.layers.Dense(64, activation='relu'),\n",
    "  tf.keras.layers.Dense(3)\n",
    "])"
   ]
  },
  {
   "cell_type": "code",
   "execution_count": 10,
   "id": "nutritional-retreat",
   "metadata": {},
   "outputs": [],
   "source": [
    "model.compile(optimizer='adam',\n",
    "              loss=tf.keras.losses.SparseCategoricalCrossentropy(from_logits=True),\n",
    "              metrics=['accuracy'])"
   ]
  },
  {
   "cell_type": "code",
   "execution_count": 11,
   "id": "colored-twelve",
   "metadata": {},
   "outputs": [
    {
     "name": "stdout",
     "output_type": "stream",
     "text": [
      "Epoch 1/50\n",
      "2826/2826 [==============================] - 2s 548us/step - loss: 0.4630 - accuracy: 0.8249\n",
      "Epoch 2/50\n",
      "2826/2826 [==============================] - 2s 545us/step - loss: 0.3796 - accuracy: 0.8406\n",
      "Epoch 3/50\n",
      "2826/2826 [==============================] - 2s 542us/step - loss: 0.3670 - accuracy: 0.8461\n",
      "Epoch 4/50\n",
      "2826/2826 [==============================] - 2s 544us/step - loss: 0.3520 - accuracy: 0.8517\n",
      "Epoch 5/50\n",
      "2826/2826 [==============================] - 2s 545us/step - loss: 0.3417 - accuracy: 0.8572\n",
      "Epoch 6/50\n",
      "2826/2826 [==============================] - 2s 542us/step - loss: 0.3337 - accuracy: 0.8575\n",
      "Epoch 7/50\n",
      "2826/2826 [==============================] - 2s 546us/step - loss: 0.3257 - accuracy: 0.8620\n",
      "Epoch 8/50\n",
      "2826/2826 [==============================] - 2s 552us/step - loss: 0.3198 - accuracy: 0.8638\n",
      "Epoch 9/50\n",
      "2826/2826 [==============================] - 2s 544us/step - loss: 0.3157 - accuracy: 0.8646\n",
      "Epoch 10/50\n",
      "2826/2826 [==============================] - 2s 545us/step - loss: 0.3095 - accuracy: 0.8671\n",
      "Epoch 11/50\n",
      "2826/2826 [==============================] - 2s 542us/step - loss: 0.3028 - accuracy: 0.8725\n",
      "Epoch 12/50\n",
      "2826/2826 [==============================] - 2s 546us/step - loss: 0.3006 - accuracy: 0.8722\n",
      "Epoch 13/50\n",
      "2826/2826 [==============================] - 2s 546us/step - loss: 0.2974 - accuracy: 0.8745\n",
      "Epoch 14/50\n",
      "2826/2826 [==============================] - 2s 549us/step - loss: 0.2906 - accuracy: 0.8762\n",
      "Epoch 15/50\n",
      "2826/2826 [==============================] - 2s 545us/step - loss: 0.2877 - accuracy: 0.8773\n",
      "Epoch 16/50\n",
      "2826/2826 [==============================] - 2s 547us/step - loss: 0.2865 - accuracy: 0.8785\n",
      "Epoch 17/50\n",
      "2826/2826 [==============================] - 2s 546us/step - loss: 0.2819 - accuracy: 0.8807\n",
      "Epoch 18/50\n",
      "2826/2826 [==============================] - 2s 547us/step - loss: 0.2795 - accuracy: 0.8823\n",
      "Epoch 19/50\n",
      "2826/2826 [==============================] - 2s 546us/step - loss: 0.2768 - accuracy: 0.8839\n",
      "Epoch 20/50\n",
      "2826/2826 [==============================] - 2s 545us/step - loss: 0.2740 - accuracy: 0.8849\n",
      "Epoch 21/50\n",
      "2826/2826 [==============================] - 2s 545us/step - loss: 0.2730 - accuracy: 0.8843\n",
      "Epoch 22/50\n",
      "2826/2826 [==============================] - 2s 549us/step - loss: 0.2728 - accuracy: 0.8866\n",
      "Epoch 23/50\n",
      "2826/2826 [==============================] - 2s 548us/step - loss: 0.2637 - accuracy: 0.8896\n",
      "Epoch 24/50\n",
      "2826/2826 [==============================] - 2s 547us/step - loss: 0.2612 - accuracy: 0.8920\n",
      "Epoch 25/50\n",
      "2826/2826 [==============================] - 2s 546us/step - loss: 0.2559 - accuracy: 0.8944\n",
      "Epoch 26/50\n",
      "2826/2826 [==============================] - 2s 552us/step - loss: 0.2555 - accuracy: 0.8943\n",
      "Epoch 27/50\n",
      "2826/2826 [==============================] - 2s 552us/step - loss: 0.2584 - accuracy: 0.8921\n",
      "Epoch 28/50\n",
      "2826/2826 [==============================] - 2s 545us/step - loss: 0.2513 - accuracy: 0.8975\n",
      "Epoch 29/50\n",
      "2826/2826 [==============================] - 2s 553us/step - loss: 0.2505 - accuracy: 0.8960\n",
      "Epoch 30/50\n",
      "2826/2826 [==============================] - 2s 556us/step - loss: 0.2482 - accuracy: 0.8980\n",
      "Epoch 31/50\n",
      "2826/2826 [==============================] - 2s 548us/step - loss: 0.2451 - accuracy: 0.9005\n",
      "Epoch 32/50\n",
      "2826/2826 [==============================] - 2s 549us/step - loss: 0.2442 - accuracy: 0.8988\n",
      "Epoch 33/50\n",
      "2826/2826 [==============================] - 2s 547us/step - loss: 0.2389 - accuracy: 0.9039\n",
      "Epoch 34/50\n",
      "2826/2826 [==============================] - 2s 548us/step - loss: 0.2381 - accuracy: 0.9020\n",
      "Epoch 35/50\n",
      "2826/2826 [==============================] - 2s 547us/step - loss: 0.2387 - accuracy: 0.9027\n",
      "Epoch 36/50\n",
      "2826/2826 [==============================] - 2s 548us/step - loss: 0.2351 - accuracy: 0.9048\n",
      "Epoch 37/50\n",
      "2826/2826 [==============================] - 2s 559us/step - loss: 0.2385 - accuracy: 0.9019\n",
      "Epoch 38/50\n",
      "2826/2826 [==============================] - 2s 550us/step - loss: 0.2317 - accuracy: 0.9059\n",
      "Epoch 39/50\n",
      "2826/2826 [==============================] - 2s 548us/step - loss: 0.2305 - accuracy: 0.9073\n",
      "Epoch 40/50\n",
      "2826/2826 [==============================] - 2s 551us/step - loss: 0.2313 - accuracy: 0.9053\n",
      "Epoch 41/50\n",
      "2826/2826 [==============================] - 2s 550us/step - loss: 0.2284 - accuracy: 0.9068\n",
      "Epoch 42/50\n",
      "2826/2826 [==============================] - 2s 548us/step - loss: 0.2251 - accuracy: 0.9082\n",
      "Epoch 43/50\n",
      "2826/2826 [==============================] - 2s 547us/step - loss: 0.2276 - accuracy: 0.9080\n",
      "Epoch 44/50\n",
      "2826/2826 [==============================] - 2s 547us/step - loss: 0.2225 - accuracy: 0.9101\n",
      "Epoch 45/50\n",
      "2826/2826 [==============================] - 2s 544us/step - loss: 0.2256 - accuracy: 0.9069\n",
      "Epoch 46/50\n",
      "2826/2826 [==============================] - 2s 545us/step - loss: 0.2203 - accuracy: 0.9117\n",
      "Epoch 47/50\n",
      "2826/2826 [==============================] - 2s 551us/step - loss: 0.2244 - accuracy: 0.9083\n",
      "Epoch 48/50\n",
      "2826/2826 [==============================] - 2s 544us/step - loss: 0.2192 - accuracy: 0.9113\n",
      "Epoch 49/50\n",
      "2826/2826 [==============================] - 2s 549us/step - loss: 0.2203 - accuracy: 0.9111\n",
      "Epoch 50/50\n",
      "2826/2826 [==============================] - 2s 546us/step - loss: 0.2160 - accuracy: 0.9123\n"
     ]
    },
    {
     "data": {
      "text/plain": [
       "<tensorflow.python.keras.callbacks.History at 0x19a842a1548>"
      ]
     },
     "execution_count": 11,
     "metadata": {},
     "output_type": "execute_result"
    }
   ],
   "source": [
    "model.fit(X, y, epochs=50)"
   ]
  },
  {
   "cell_type": "code",
   "execution_count": 12,
   "id": "bizarre-alcohol",
   "metadata": {},
   "outputs": [
    {
     "name": "stdout",
     "output_type": "stream",
     "text": [
      "2826/2826 [==============================] - 1s 416us/step - loss: 0.2065 - accuracy: 0.9192\n",
      "Accuracy: 91.92\n"
     ]
    }
   ],
   "source": [
    "_, accuracy = model.evaluate(X, y)\n",
    "print('Accuracy: %.2f' % (accuracy*100))"
   ]
  },
  {
   "cell_type": "code",
   "execution_count": 13,
   "id": "musical-anchor",
   "metadata": {},
   "outputs": [],
   "source": [
    "zero = 0\n",
    "one = 0\n",
    "two = 0\n",
    "for i in model.predict(X):\n",
    "    if np.argmax(i) == 0:\n",
    "        zero += 1\n",
    "    elif np.argmax(i) == 1:\n",
    "        one += 1 \n",
    "    else:\n",
    "        two += 1"
   ]
  },
  {
   "cell_type": "code",
   "execution_count": 14,
   "id": "combined-alarm",
   "metadata": {},
   "outputs": [
    {
     "name": "stdout",
     "output_type": "stream",
     "text": [
      "12816\n",
      "75350\n",
      "2244\n"
     ]
    }
   ],
   "source": [
    "print(zero)\n",
    "print(one)\n",
    "print(two)"
   ]
  },
  {
   "cell_type": "code",
   "execution_count": 15,
   "id": "precious-execution",
   "metadata": {},
   "outputs": [],
   "source": [
    "from pickle import dump\n",
    "\n",
    "model.save(\"./nomalized_model.h5\")\n",
    "dump(scaler, open('scaler.pkl', 'wb'))"
   ]
  },
  {
   "cell_type": "code",
   "execution_count": null,
   "id": "expired-award",
   "metadata": {},
   "outputs": [],
   "source": []
  }
 ],
 "metadata": {
  "kernelspec": {
   "display_name": "Python 3",
   "language": "python",
   "name": "python3"
  },
  "language_info": {
   "codemirror_mode": {
    "name": "ipython",
    "version": 3
   },
   "file_extension": ".py",
   "mimetype": "text/x-python",
   "name": "python",
   "nbconvert_exporter": "python",
   "pygments_lexer": "ipython3",
   "version": "3.7.8"
  }
 },
 "nbformat": 4,
 "nbformat_minor": 5
}
