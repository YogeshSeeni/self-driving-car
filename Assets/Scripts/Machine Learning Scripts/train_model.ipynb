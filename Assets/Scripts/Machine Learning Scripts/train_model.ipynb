{
 "cells": [
  {
   "cell_type": "code",
   "execution_count": 33,
   "id": "fitting-virus",
   "metadata": {},
   "outputs": [],
   "source": [
    "import numpy as np\n",
    "from numpy import loadtxt\n",
    "from tensorflow.keras.models import Sequential\n",
    "from tensorflow.keras.layers import Dense"
   ]
  },
  {
   "cell_type": "code",
   "execution_count": 34,
   "id": "measured-disorder",
   "metadata": {},
   "outputs": [],
   "source": [
    "features = [\"ForwardRay\",\"ForwardLeftRay\",\"LeftRay\",\"ForwardRightRay\",\"RightRay\",\"SteeringAngle\"]\n",
    "dataset = loadtxt(\"./training_data.csv\", delimiter=\",\")"
   ]
  },
  {
   "cell_type": "code",
   "execution_count": 35,
   "id": "lyric-morris",
   "metadata": {},
   "outputs": [],
   "source": [
    "import random\n",
    "\n",
    "random.shuffle(dataset)"
   ]
  },
  {
   "cell_type": "code",
   "execution_count": 36,
   "id": "engaging-slave",
   "metadata": {},
   "outputs": [
    {
     "name": "stdout",
     "output_type": "stream",
     "text": [
      "[11.28542   2.609402  1.994907  2.359509  1.538153]\n"
     ]
    }
   ],
   "source": [
    "X = dataset[:,0:5]\n",
    "y = dataset[:,5]\n",
    "print(X[20])"
   ]
  },
  {
   "cell_type": "code",
   "execution_count": 37,
   "id": "prerequisite-table",
   "metadata": {},
   "outputs": [],
   "source": [
    "X = np.array(X)\n",
    "y = np.array(y)"
   ]
  },
  {
   "cell_type": "code",
   "execution_count": 38,
   "id": "elder-manchester",
   "metadata": {},
   "outputs": [],
   "source": [
    "from sklearn.preprocessing import StandardScaler\n",
    "\n",
    "scaler = StandardScaler().fit(X)\n",
    "X = scaler.transform(X)"
   ]
  },
  {
   "cell_type": "code",
   "execution_count": 42,
   "id": "refined-forest",
   "metadata": {},
   "outputs": [],
   "source": [
    "fix_y = []\n",
    "\n",
    "for n in y:\n",
    "    fix_y.append(n+1)\n",
    "    \n",
    "y = np.array(fix_y)"
   ]
  },
  {
   "cell_type": "code",
   "execution_count": 24,
   "id": "federal-heating",
   "metadata": {},
   "outputs": [],
   "source": []
  },
  {
   "cell_type": "code",
   "execution_count": 39,
   "id": "prospective-favor",
   "metadata": {},
   "outputs": [],
   "source": [
    "import tensorflow as tf\n",
    "\n",
    "model = tf.keras.models.Sequential([\n",
    "  tf.keras.layers.Flatten(input_dim=5),\n",
    "  tf.keras.layers.Dense(64, activation='relu'),\n",
    "    tf.keras.layers.Dense(64, activation='relu'),\n",
    "  tf.keras.layers.Dense(3)\n",
    "])"
   ]
  },
  {
   "cell_type": "code",
   "execution_count": 40,
   "id": "nutritional-retreat",
   "metadata": {},
   "outputs": [],
   "source": [
    "model.compile(optimizer='adam',\n",
    "              loss=tf.keras.losses.SparseCategoricalCrossentropy(from_logits=True),\n",
    "              metrics=['accuracy'])"
   ]
  },
  {
   "cell_type": "code",
   "execution_count": 43,
   "id": "colored-twelve",
   "metadata": {},
   "outputs": [
    {
     "name": "stdout",
     "output_type": "stream",
     "text": [
      "Epoch 1/50\n",
      "5586/5586 [==============================] - 3s 591us/step - loss: 0.4222 - accuracy: 0.8236\n",
      "Epoch 2/50\n",
      "5586/5586 [==============================] - 3s 582us/step - loss: 0.3884 - accuracy: 0.8334\n",
      "Epoch 3/50\n",
      "5586/5586 [==============================] - 3s 581us/step - loss: 0.3725 - accuracy: 0.8387\n",
      "Epoch 4/50\n",
      "5586/5586 [==============================] - 3s 579us/step - loss: 0.3615 - accuracy: 0.8436\n",
      "Epoch 5/50\n",
      "5586/5586 [==============================] - 3s 576us/step - loss: 0.3541 - accuracy: 0.8469\n",
      "Epoch 6/50\n",
      "5586/5586 [==============================] - 3s 574us/step - loss: 0.3475 - accuracy: 0.8502\n",
      "Epoch 7/50\n",
      "5586/5586 [==============================] - 3s 576us/step - loss: 0.3417 - accuracy: 0.8525\n",
      "Epoch 8/50\n",
      "5586/5586 [==============================] - 3s 583us/step - loss: 0.3361 - accuracy: 0.8545\n",
      "Epoch 9/50\n",
      "5586/5586 [==============================] - 3s 579us/step - loss: 0.3318 - accuracy: 0.8570\n",
      "Epoch 10/50\n",
      "5586/5586 [==============================] - 3s 574us/step - loss: 0.3280 - accuracy: 0.8591\n",
      "Epoch 11/50\n",
      "5586/5586 [==============================] - 3s 571us/step - loss: 0.3240 - accuracy: 0.8596\n",
      "Epoch 12/50\n",
      "5586/5586 [==============================] - 3s 580us/step - loss: 0.3206 - accuracy: 0.8617\n",
      "Epoch 13/50\n",
      "5586/5586 [==============================] - 3s 578us/step - loss: 0.3168 - accuracy: 0.8628\n",
      "Epoch 14/50\n",
      "5586/5586 [==============================] - 3s 576us/step - loss: 0.3144 - accuracy: 0.8638\n",
      "Epoch 15/50\n",
      "5586/5586 [==============================] - 3s 579us/step - loss: 0.3110 - accuracy: 0.8660\n",
      "Epoch 16/50\n",
      "5586/5586 [==============================] - 3s 577us/step - loss: 0.3079 - accuracy: 0.8662\n",
      "Epoch 17/50\n",
      "5586/5586 [==============================] - 3s 578us/step - loss: 0.3057 - accuracy: 0.8675\n",
      "Epoch 18/50\n",
      "5586/5586 [==============================] - 3s 582us/step - loss: 0.3031 - accuracy: 0.8685\n",
      "Epoch 19/50\n",
      "5586/5586 [==============================] - 3s 603us/step - loss: 0.3009 - accuracy: 0.8685\n",
      "Epoch 20/50\n",
      "5586/5586 [==============================] - 3s 579us/step - loss: 0.2977 - accuracy: 0.8704\n",
      "Epoch 21/50\n",
      "5586/5586 [==============================] - 3s 577us/step - loss: 0.2967 - accuracy: 0.8713\n",
      "Epoch 22/50\n",
      "5586/5586 [==============================] - 3s 587us/step - loss: 0.2941 - accuracy: 0.8721\n",
      "Epoch 23/50\n",
      "5586/5586 [==============================] - 3s 574us/step - loss: 0.2919 - accuracy: 0.8729\n",
      "Epoch 24/50\n",
      "5586/5586 [==============================] - 3s 577us/step - loss: 0.2899 - accuracy: 0.8741\n",
      "Epoch 25/50\n",
      "5586/5586 [==============================] - 3s 580us/step - loss: 0.2875 - accuracy: 0.8756\n",
      "Epoch 26/50\n",
      "5586/5586 [==============================] - 3s 581us/step - loss: 0.2862 - accuracy: 0.8755\n",
      "Epoch 27/50\n",
      "5586/5586 [==============================] - 3s 579us/step - loss: 0.2846 - accuracy: 0.8765\n",
      "Epoch 28/50\n",
      "5586/5586 [==============================] - 3s 585us/step - loss: 0.2827 - accuracy: 0.8769\n",
      "Epoch 29/50\n",
      "5586/5586 [==============================] - 3s 580us/step - loss: 0.2816 - accuracy: 0.8780\n",
      "Epoch 30/50\n",
      "5586/5586 [==============================] - 3s 587us/step - loss: 0.2802 - accuracy: 0.8790\n",
      "Epoch 31/50\n",
      "5586/5586 [==============================] - 3s 576us/step - loss: 0.2783 - accuracy: 0.8793\n",
      "Epoch 32/50\n",
      "5586/5586 [==============================] - 3s 566us/step - loss: 0.2773 - accuracy: 0.8803\n",
      "Epoch 33/50\n",
      "5586/5586 [==============================] - 3s 547us/step - loss: 0.2757 - accuracy: 0.8812\n",
      "Epoch 34/50\n",
      "5586/5586 [==============================] - 3s 557us/step - loss: 0.2738 - accuracy: 0.8818\n",
      "Epoch 35/50\n",
      "5586/5586 [==============================] - 3s 557us/step - loss: 0.2724 - accuracy: 0.8819\n",
      "Epoch 36/50\n",
      "5586/5586 [==============================] - 3s 555us/step - loss: 0.2719 - accuracy: 0.8823\n",
      "Epoch 37/50\n",
      "5586/5586 [==============================] - 3s 559us/step - loss: 0.2705 - accuracy: 0.8824\n",
      "Epoch 38/50\n",
      "5586/5586 [==============================] - 3s 578us/step - loss: 0.2692 - accuracy: 0.8843\n",
      "Epoch 39/50\n",
      "5586/5586 [==============================] - 3s 558us/step - loss: 0.2682 - accuracy: 0.8844\n",
      "Epoch 40/50\n",
      "5586/5586 [==============================] - 3s 555us/step - loss: 0.2680 - accuracy: 0.8843\n",
      "Epoch 41/50\n",
      "5586/5586 [==============================] - 3s 556us/step - loss: 0.2659 - accuracy: 0.8853\n",
      "Epoch 42/50\n",
      "5586/5586 [==============================] - 3s 555us/step - loss: 0.2650 - accuracy: 0.8859\n",
      "Epoch 43/50\n",
      "5586/5586 [==============================] - 3s 561us/step - loss: 0.2645 - accuracy: 0.8868\n",
      "Epoch 44/50\n",
      "5586/5586 [==============================] - 3s 551us/step - loss: 0.2635 - accuracy: 0.8865\n",
      "Epoch 45/50\n",
      "5586/5586 [==============================] - 3s 560us/step - loss: 0.2621 - accuracy: 0.8871\n",
      "Epoch 46/50\n",
      "5586/5586 [==============================] - 3s 559us/step - loss: 0.2618 - accuracy: 0.8874\n",
      "Epoch 47/50\n",
      "5586/5586 [==============================] - 3s 562us/step - loss: 0.2606 - accuracy: 0.8877\n",
      "Epoch 48/50\n",
      "5586/5586 [==============================] - 3s 563us/step - loss: 0.2607 - accuracy: 0.8886\n",
      "Epoch 49/50\n",
      "5586/5586 [==============================] - 3s 560us/step - loss: 0.2597 - accuracy: 0.8887\n",
      "Epoch 50/50\n",
      "5586/5586 [==============================] - 3s 578us/step - loss: 0.2583 - accuracy: 0.8899\n"
     ]
    },
    {
     "data": {
      "text/plain": [
       "<tensorflow.python.keras.callbacks.History at 0x2510748a388>"
      ]
     },
     "execution_count": 43,
     "metadata": {},
     "output_type": "execute_result"
    }
   ],
   "source": [
    "model.fit(X, y, epochs=50)"
   ]
  },
  {
   "cell_type": "code",
   "execution_count": 44,
   "id": "bizarre-alcohol",
   "metadata": {},
   "outputs": [
    {
     "name": "stdout",
     "output_type": "stream",
     "text": [
      "5586/5586 [==============================] - 2s 420us/step - loss: 0.2548 - accuracy: 0.8923\n",
      "Accuracy: 89.23\n"
     ]
    }
   ],
   "source": [
    "_, accuracy = model.evaluate(X, y)\n",
    "print('Accuracy: %.2f' % (accuracy*100))"
   ]
  },
  {
   "cell_type": "code",
   "execution_count": 30,
   "id": "musical-anchor",
   "metadata": {},
   "outputs": [],
   "source": [
    "zero = 0\n",
    "one = 0\n",
    "two = 0\n",
    "for i in model.predict(X):\n",
    "    if np.argmax(i) == 0:\n",
    "        zero += 1\n",
    "    elif np.argmax(i) == 1:\n",
    "        one += 1 \n",
    "    else:\n",
    "        two += 1"
   ]
  },
  {
   "cell_type": "code",
   "execution_count": 31,
   "id": "combined-alarm",
   "metadata": {},
   "outputs": [
    {
     "name": "stdout",
     "output_type": "stream",
     "text": [
      "6575\n",
      "8356\n",
      "4527\n"
     ]
    }
   ],
   "source": [
    "print(zero)\n",
    "print(one)\n",
    "print(two)"
   ]
  },
  {
   "cell_type": "code",
   "execution_count": 45,
   "id": "precious-execution",
   "metadata": {},
   "outputs": [],
   "source": [
    "from pickle import dump\n",
    "\n",
    "model.save(\"./nomalized_model.h5\")\n",
    "dump(scaler, open('scaler.pkl', 'wb'))"
   ]
  },
  {
   "cell_type": "code",
   "execution_count": null,
   "id": "expired-award",
   "metadata": {},
   "outputs": [],
   "source": []
  }
 ],
 "metadata": {
  "kernelspec": {
   "display_name": "Python 3",
   "language": "python",
   "name": "python3"
  },
  "language_info": {
   "codemirror_mode": {
    "name": "ipython",
    "version": 3
   },
   "file_extension": ".py",
   "mimetype": "text/x-python",
   "name": "python",
   "nbconvert_exporter": "python",
   "pygments_lexer": "ipython3",
   "version": "3.7.8"
  }
 },
 "nbformat": 4,
 "nbformat_minor": 5
}
