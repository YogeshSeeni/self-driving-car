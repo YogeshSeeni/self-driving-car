{
 "cells": [
  {
   "cell_type": "code",
   "execution_count": 1,
   "id": "fitting-virus",
   "metadata": {},
   "outputs": [],
   "source": [
    "import numpy as np\n",
    "from numpy import loadtxt\n",
    "from tensorflow.keras.models import Sequential\n",
    "from tensorflow.keras.layers import Dense"
   ]
  },
  {
   "cell_type": "code",
   "execution_count": 3,
   "id": "measured-disorder",
   "metadata": {},
   "outputs": [],
   "source": [
    "features = [\"ForwardRay\",\"ForwardLeftRay\",\"LeftRay\",\"ForwardRightRay\",\"RightRay\",\"SteeringAngle\"]\n",
    "dataset = loadtxt(\"./training_data.csv\", delimiter=\",\")"
   ]
  },
  {
   "cell_type": "code",
   "execution_count": 4,
   "id": "lyric-morris",
   "metadata": {},
   "outputs": [],
   "source": [
    "import random\n",
    "\n",
    "random.shuffle(dataset)"
   ]
  },
  {
   "cell_type": "code",
   "execution_count": 7,
   "id": "engaging-slave",
   "metadata": {},
   "outputs": [
    {
     "name": "stdout",
     "output_type": "stream",
     "text": [
      "[11.26598   2.608812  1.993515  2.360173  1.539473]\n"
     ]
    }
   ],
   "source": [
    "X = dataset[:,0:5]\n",
    "y = dataset[:,5]\n",
    "print(X[20])"
   ]
  },
  {
   "cell_type": "code",
   "execution_count": 8,
   "id": "prerequisite-table",
   "metadata": {},
   "outputs": [],
   "source": [
    "X = np.array(X)\n",
    "y = np.array(y)"
   ]
  },
  {
   "cell_type": "code",
   "execution_count": 9,
   "id": "elder-manchester",
   "metadata": {},
   "outputs": [],
   "source": [
    "from sklearn.preprocessing import StandardScaler\n",
    "\n",
    "scaler = StandardScaler().fit(X)\n",
    "X = scaler.transform(X)"
   ]
  },
  {
   "cell_type": "code",
   "execution_count": 10,
   "id": "refined-forest",
   "metadata": {},
   "outputs": [
    {
     "name": "stdout",
     "output_type": "stream",
     "text": [
      "[ 0.66685579 -0.0547152   1.24151542 -0.67617444 -1.23545023]\n"
     ]
    }
   ],
   "source": [
    "print(X[20])"
   ]
  },
  {
   "cell_type": "code",
   "execution_count": 11,
   "id": "federal-heating",
   "metadata": {},
   "outputs": [],
   "source": [
    "y_fixed = []\n",
    "\n",
    "for n in y:\n",
    "    y_fixed.append(n+1)\n",
    "    \n",
    "y = np.array(y_fixed)"
   ]
  },
  {
   "cell_type": "code",
   "execution_count": 12,
   "id": "prospective-favor",
   "metadata": {},
   "outputs": [],
   "source": [
    "import tensorflow as tf\n",
    "\n",
    "model = tf.keras.models.Sequential([\n",
    "  tf.keras.layers.Flatten(input_dim=5),\n",
    "  tf.keras.layers.Dense(64, activation='relu'),\n",
    "    tf.keras.layers.Dense(64, activation='relu'),\n",
    "  tf.keras.layers.Dense(3)\n",
    "])"
   ]
  },
  {
   "cell_type": "code",
   "execution_count": 13,
   "id": "nutritional-retreat",
   "metadata": {},
   "outputs": [],
   "source": [
    "model.compile(optimizer='adam',\n",
    "              loss=tf.keras.losses.SparseCategoricalCrossentropy(from_logits=True),\n",
    "              metrics=['accuracy'])"
   ]
  },
  {
   "cell_type": "code",
   "execution_count": 14,
   "id": "colored-twelve",
   "metadata": {},
   "outputs": [
    {
     "name": "stdout",
     "output_type": "stream",
     "text": [
      "Epoch 1/50\n",
      "5586/5586 [==============================] - 3s 552us/step - loss: 0.4492 - accuracy: 0.8187\n",
      "Epoch 2/50\n",
      "5586/5586 [==============================] - 3s 557us/step - loss: 0.3915 - accuracy: 0.8332\n",
      "Epoch 3/50\n",
      "5586/5586 [==============================] - 3s 571us/step - loss: 0.3748 - accuracy: 0.8366\n",
      "Epoch 4/50\n",
      "5586/5586 [==============================] - 3s 555us/step - loss: 0.3662 - accuracy: 0.8408\n",
      "Epoch 5/50\n",
      "5586/5586 [==============================] - 3s 553us/step - loss: 0.3553 - accuracy: 0.8440\n",
      "Epoch 6/50\n",
      "5586/5586 [==============================] - 3s 551us/step - loss: 0.3489 - accuracy: 0.8469\n",
      "Epoch 7/50\n",
      "5586/5586 [==============================] - 3s 553us/step - loss: 0.3437 - accuracy: 0.8492\n",
      "Epoch 8/50\n",
      "5586/5586 [==============================] - 3s 548us/step - loss: 0.3409 - accuracy: 0.8494\n",
      "Epoch 9/50\n",
      "5586/5586 [==============================] - 3s 550us/step - loss: 0.3354 - accuracy: 0.8529\n",
      "Epoch 10/50\n",
      "5586/5586 [==============================] - 3s 559us/step - loss: 0.3328 - accuracy: 0.8527\n",
      "Epoch 11/50\n",
      "5586/5586 [==============================] - 3s 554us/step - loss: 0.3293 - accuracy: 0.8555\n",
      "Epoch 12/50\n",
      "5586/5586 [==============================] - 3s 550us/step - loss: 0.3235 - accuracy: 0.8574\n",
      "Epoch 13/50\n",
      "5586/5586 [==============================] - 3s 552us/step - loss: 0.3227 - accuracy: 0.8578\n",
      "Epoch 14/50\n",
      "5586/5586 [==============================] - 3s 552us/step - loss: 0.3208 - accuracy: 0.8576\n",
      "Epoch 15/50\n",
      "5586/5586 [==============================] - 3s 551us/step - loss: 0.3163 - accuracy: 0.8598\n",
      "Epoch 16/50\n",
      "5586/5586 [==============================] - 3s 551us/step - loss: 0.3141 - accuracy: 0.8604\n",
      "Epoch 17/50\n",
      "5586/5586 [==============================] - 3s 552us/step - loss: 0.3147 - accuracy: 0.8616\n",
      "Epoch 18/50\n",
      "5586/5586 [==============================] - 3s 553us/step - loss: 0.3096 - accuracy: 0.8632\n",
      "Epoch 19/50\n",
      "5586/5586 [==============================] - 3s 557us/step - loss: 0.3040 - accuracy: 0.8671\n",
      "Epoch 20/50\n",
      "5586/5586 [==============================] - 3s 550us/step - loss: 0.3022 - accuracy: 0.8672\n",
      "Epoch 21/50\n",
      "5586/5586 [==============================] - 3s 551us/step - loss: 0.3038 - accuracy: 0.8666\n",
      "Epoch 22/50\n",
      "5586/5586 [==============================] - 3s 556us/step - loss: 0.2999 - accuracy: 0.8685\n",
      "Epoch 23/50\n",
      "5586/5586 [==============================] - 3s 553us/step - loss: 0.2981 - accuracy: 0.8694\n",
      "Epoch 24/50\n",
      "5586/5586 [==============================] - 3s 555us/step - loss: 0.2943 - accuracy: 0.8727\n",
      "Epoch 25/50\n",
      "5586/5586 [==============================] - 3s 554us/step - loss: 0.2917 - accuracy: 0.8733\n",
      "Epoch 26/50\n",
      "5586/5586 [==============================] - 3s 553us/step - loss: 0.2914 - accuracy: 0.8727\n",
      "Epoch 27/50\n",
      "5586/5586 [==============================] - 3s 555us/step - loss: 0.2876 - accuracy: 0.8747\n",
      "Epoch 28/50\n",
      "5586/5586 [==============================] - 3s 554us/step - loss: 0.2868 - accuracy: 0.8754\n",
      "Epoch 29/50\n",
      "5586/5586 [==============================] - 3s 550us/step - loss: 0.2834 - accuracy: 0.8784\n",
      "Epoch 30/50\n",
      "5586/5586 [==============================] - 3s 567us/step - loss: 0.2845 - accuracy: 0.8758\n",
      "Epoch 31/50\n",
      "5586/5586 [==============================] - 3s 553us/step - loss: 0.2793 - accuracy: 0.8785\n",
      "Epoch 32/50\n",
      "5586/5586 [==============================] - 3s 557us/step - loss: 0.2809 - accuracy: 0.8797\n",
      "Epoch 33/50\n",
      "5586/5586 [==============================] - 3s 552us/step - loss: 0.2787 - accuracy: 0.8797\n",
      "Epoch 34/50\n",
      "5586/5586 [==============================] - 3s 551us/step - loss: 0.2778 - accuracy: 0.8800\n",
      "Epoch 35/50\n",
      "5586/5586 [==============================] - 3s 551us/step - loss: 0.2758 - accuracy: 0.8810\n",
      "Epoch 36/50\n",
      "5586/5586 [==============================] - 3s 552us/step - loss: 0.2733 - accuracy: 0.8821\n",
      "Epoch 37/50\n",
      "5586/5586 [==============================] - 3s 556us/step - loss: 0.2740 - accuracy: 0.8807\n",
      "Epoch 38/50\n",
      "5586/5586 [==============================] - 3s 554us/step - loss: 0.2708 - accuracy: 0.8824\n",
      "Epoch 39/50\n",
      "5586/5586 [==============================] - 3s 554us/step - loss: 0.2689 - accuracy: 0.8845\n",
      "Epoch 40/50\n",
      "5586/5586 [==============================] - 3s 556us/step - loss: 0.2685 - accuracy: 0.8839\n",
      "Epoch 41/50\n",
      "5586/5586 [==============================] - 3s 550us/step - loss: 0.2660 - accuracy: 0.8832\n",
      "Epoch 42/50\n",
      "5586/5586 [==============================] - 3s 551us/step - loss: 0.2646 - accuracy: 0.8844\n",
      "Epoch 43/50\n",
      "5586/5586 [==============================] - 3s 559us/step - loss: 0.2646 - accuracy: 0.8855\n",
      "Epoch 44/50\n",
      "5586/5586 [==============================] - 3s 553us/step - loss: 0.2632 - accuracy: 0.8868\n",
      "Epoch 45/50\n",
      "5586/5586 [==============================] - 3s 554us/step - loss: 0.2637 - accuracy: 0.8859\n",
      "Epoch 46/50\n",
      "5586/5586 [==============================] - 3s 552us/step - loss: 0.2611 - accuracy: 0.8870\n",
      "Epoch 47/50\n",
      "5586/5586 [==============================] - 3s 552us/step - loss: 0.2623 - accuracy: 0.8854\n",
      "Epoch 48/50\n",
      "5586/5586 [==============================] - 3s 553us/step - loss: 0.2600 - accuracy: 0.8865\n",
      "Epoch 49/50\n",
      "5586/5586 [==============================] - 3s 570us/step - loss: 0.2586 - accuracy: 0.8890\n",
      "Epoch 50/50\n",
      "5586/5586 [==============================] - 3s 560us/step - loss: 0.2576 - accuracy: 0.8885\n"
     ]
    },
    {
     "data": {
      "text/plain": [
       "<tensorflow.python.keras.callbacks.History at 0x27703301c88>"
      ]
     },
     "execution_count": 14,
     "metadata": {},
     "output_type": "execute_result"
    }
   ],
   "source": [
    "model.fit(X, y, epochs=50)"
   ]
  },
  {
   "cell_type": "code",
   "execution_count": 15,
   "id": "bizarre-alcohol",
   "metadata": {},
   "outputs": [
    {
     "name": "stdout",
     "output_type": "stream",
     "text": [
      "5586/5586 [==============================] - 2s 418us/step - loss: 0.2510 - accuracy: 0.8897\n",
      "Accuracy: 88.97\n"
     ]
    }
   ],
   "source": [
    "_, accuracy = model.evaluate(X, y)\n",
    "print('Accuracy: %.2f' % (accuracy*100))"
   ]
  },
  {
   "cell_type": "code",
   "execution_count": 16,
   "id": "musical-anchor",
   "metadata": {},
   "outputs": [],
   "source": [
    "zero = 0\n",
    "one = 0\n",
    "two = 0\n",
    "for i in model.predict(X):\n",
    "    if np.argmax(i) == 0:\n",
    "        zero += 1\n",
    "    elif np.argmax(i) == 1:\n",
    "        one += 1 \n",
    "    else:\n",
    "        two += 1"
   ]
  },
  {
   "cell_type": "code",
   "execution_count": 17,
   "id": "combined-alarm",
   "metadata": {},
   "outputs": [
    {
     "name": "stdout",
     "output_type": "stream",
     "text": [
      "24357\n",
      "150040\n",
      "4338\n"
     ]
    }
   ],
   "source": [
    "print(zero)\n",
    "print(one)\n",
    "print(two)"
   ]
  },
  {
   "cell_type": "code",
   "execution_count": 18,
   "id": "precious-execution",
   "metadata": {},
   "outputs": [],
   "source": [
    "from pickle import dump\n",
    "\n",
    "model.save(\"./nomalized_model.h5\")\n",
    "dump(scaler, open('scaler.pkl', 'wb'))"
   ]
  },
  {
   "cell_type": "code",
   "execution_count": null,
   "id": "expired-award",
   "metadata": {},
   "outputs": [],
   "source": []
  }
 ],
 "metadata": {
  "kernelspec": {
   "display_name": "Python 3",
   "language": "python",
   "name": "python3"
  },
  "language_info": {
   "codemirror_mode": {
    "name": "ipython",
    "version": 3
   },
   "file_extension": ".py",
   "mimetype": "text/x-python",
   "name": "python",
   "nbconvert_exporter": "python",
   "pygments_lexer": "ipython3",
   "version": "3.7.8"
  }
 },
 "nbformat": 4,
 "nbformat_minor": 5
}
